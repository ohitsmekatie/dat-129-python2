{
 "cells": [
  {
   "cell_type": "code",
   "execution_count": 37,
   "metadata": {},
   "outputs": [
    {
     "data": {
      "text/plain": [
       "<AxesSubplot:title={'center':'Ford recalls'}>"
      ]
     },
     "execution_count": 37,
     "metadata": {},
     "output_type": "execute_result"
    },
    {
     "data": {
      "image/png": "[encoded data removed]",
      "text/plain": [
       "<Figure size 432x288 with 1 Axes>"
      ]
     },
     "metadata": {
      "needs_background": "light"
     },
     "output_type": "display_data"
    }
   ],
   "source": [
    "# pandas in class practice \n",
    "\n",
    "import numpy as np \n",
    "import pandas as pd \n",
    "\n",
    "# sample dataset \n",
    "\n",
    "recalls = {\n",
    "            \"total_recalls\":[34, 67, 89, 120, 56],\n",
    "            \"sev_recalls\":[13, 40, 67, None, 5]\n",
    "}\n",
    "\n",
    "year_index = [1999,2000,2001,2002,2003,]\n",
    "\n",
    "\n",
    "# get a dataframe from pandas sets index to variable\n",
    "df = pd.DataFrame(data=recalls, index=year_index)\n",
    "\n",
    "# print dataframe \n",
    "# df\n",
    "\n",
    "#describe on the whole table \n",
    "#df.describe()\n",
    "\n",
    "#data types of the df\n",
    "# if it gets text data you won't see string without a specific library \n",
    "# df.dtypes\n",
    "\n",
    "# just gets total recalls \n",
    "df[\"total_recalls\"].plot(kind=\"barh\", title=\"Ford recalls\")\n",
    "\n",
    "#gets the stdev of just the total recalls. column\n",
    "# df[\"total_recalls\"].std()\n",
    "\n"
   ]
  },
  {
   "cell_type": "code",
   "execution_count": null,
   "metadata": {},
   "outputs": [],
   "source": []
  },
  {
   "cell_type": "code",
   "execution_count": null,
   "metadata": {},
   "outputs": [],
   "source": []
  }
 ],
 "metadata": {
  "kernelspec": {
   "display_name": "Python 3",
   "language": "python",
   "name": "python3"
  },
  "language_info": {
   "codemirror_mode": {
    "name": "ipython",
    "version": 3
   },
   "file_extension": ".py",
   "mimetype": "text/x-python",
   "name": "python",
   "nbconvert_exporter": "python",
   "pygments_lexer": "ipython3",
   "version": "3.8.3"
  }
 },
 "nbformat": 4,
 "nbformat_minor": 4
}
