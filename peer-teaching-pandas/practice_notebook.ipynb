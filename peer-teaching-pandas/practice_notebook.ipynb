{
 "cells": [
  {
   "cell_type": "code",
   "execution_count": 3,
   "metadata": {},
   "outputs": [
    {
     "name": "stdout",
     "output_type": "stream",
     "text": [
      "There are 700 trees in this neighborhood\n"
     ]
    }
   ],
   "source": [
    "# import pandas \n",
    "import pandas as pd \n",
    "\n",
    "# read in the Pittsburgh trees dataset and save to a variable. this will now be the DataFrame - df - data type\n",
    "# low_memory=False to prevent mismatched datatype error. The reason you get this low_memory warning is because \n",
    "# guessing dtypes for each column takes up a lot of memory because Pandas is trying to guess the data type \n",
    "# by looking at all the data in each column. This doesn't actually do anything but remove the error.\n",
    "\n",
    "tree_data = pd.read_csv(\"pittsburgh-trees.csv\", low_memory=False)\n",
    "\n",
    "# sample 5 rows of the dataset \n",
    "tree_data.sample(1)\n",
    "\n",
    "# saves just the neighborhoods into their own variable \n",
    "tree_neighborhoods = tree_data.loc[1::][\"neighborhood\"]\n",
    "\n",
    "#print(tree_neighborhoods)\n",
    "\n",
    "# How many trees are in highland park?\n",
    "\n",
    "highland_park_treecount = 0\n",
    "\n",
    "# a for loop to look through the neighborhoods that have trees and count them \n",
    "for neighborhood in tree_neighborhoods:\n",
    "    if neighborhood == \"Stanton Heights\":\n",
    "        highland_park_treecount += 1\n",
    "\n",
    "print(\"There are\", highland_park_treecount, \"trees in this neighborhood\")\n"
   ]
  },
  {
   "cell_type": "code",
   "execution_count": null,
   "metadata": {},
   "outputs": [],
   "source": []
  },
  {
   "cell_type": "code",
   "execution_count": null,
   "metadata": {},
   "outputs": [],
   "source": []
  }
 ],
 "metadata": {
  "kernelspec": {
   "display_name": "Python 3",
   "language": "python",
   "name": "python3"
  },
  "language_info": {
   "codemirror_mode": {
    "name": "ipython",
    "version": 3
   },
   "file_extension": ".py",
   "mimetype": "text/x-python",
   "name": "python",
   "nbconvert_exporter": "python",
   "pygments_lexer": "ipython3",
   "version": "3.8.3"
  }
 },
 "nbformat": 4,
 "nbformat_minor": 4
}
