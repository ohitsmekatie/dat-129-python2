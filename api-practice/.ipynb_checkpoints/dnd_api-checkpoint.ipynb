{
 "cells": [
  {
   "cell_type": "code",
   "execution_count": 4,
   "metadata": {},
   "outputs": [
    {
     "name": "stdout",
     "output_type": "stream",
     "text": [
      "What spell description would you like to look up: acid arrow\n",
      "\n",
      "A shimmering green arrow streaks toward a target within range and bursts in a spray of acid. Make a ranged spell attack against the target. On a hit, the target takes 4d4 acid damage immediately and 2d4 acid damage at the end of its next turn. On a miss, the arrow splashes the target with acid for half as much of the initial damage and no damage at the end of its next turn.\n",
      "\n",
      "It is a level 2 spell\n",
      "\n",
      "The casting time for the spell is 1 action\n",
      "\n",
      "The range for this spell is 90 feet\n",
      "\n",
      "The duration of this spell:  Instantaneous\n",
      "\n",
      "These are the materials you need:  Powdered rhubarb leaf and an adder's stomach.\n"
     ]
    }
   ],
   "source": [
    "import json, requests, sys \n",
    "\n",
    "# base URL for dnd5e API\n",
    "BASE_URL = \"https://www.dnd5eapi.co\"\n",
    "USER_INPUT = input(\"What spell would you like to look up: \")\n",
    "\n",
    "\n",
    "def make_api_request(url):\n",
    "    \"\"\"a function that, given a url, makes an API request and returns payload\"\"\"\n",
    "    response = requests.get(url)\n",
    "    payload = json.loads(response.text)\n",
    "    #print(response.status_code)\n",
    "    return payload \n",
    "\n",
    "            \n",
    "def get_all_spells():\n",
    "    # the output of this is all the spells that we have available \n",
    "    return make_api_request(BASE_URL + \"/api/spells\")\n",
    "\n",
    "\n",
    "def retrieve_user_spell(all_spells):\n",
    "    matching_spell = list(filter(get_spell_info, all_spells[\"results\"]))\n",
    "    if len(matching_spell) == 0:\n",
    "        print(\"Sorry, we couldn't find that spell.\")\n",
    "    else: \n",
    "        spell_url = matching_spell[0][\"url\"]\n",
    "        return make_api_request(BASE_URL + spell_url)\n",
    "\n",
    "\n",
    "def get_spell_info(singular_spell_dict):    \n",
    "    if USER_INPUT.lower() in singular_spell_dict[\"name\"].lower():\n",
    "        return True\n",
    "    else:\n",
    "        return False \n",
    "    \n",
    "def do_key_check(spell, key):\n",
    "    if key in spell.keys():\n",
    "        format_key_exists(key, spell[key])\n",
    "    else: \n",
    "        format_key_not_exists(key)\n",
    "\n",
    "def format_key_exists(key, value):\n",
    "    print()\n",
    "    if key == \"desc\":\n",
    "        print(\"Spell Description:\", value[0])\n",
    "    else: \n",
    "        print(\"Spell\", key, \":\" , value)\n",
    "\n",
    "\n",
    "def format_key_not_exists(key):\n",
    "    print()\n",
    "    print(\"Spell\", key, \": Does not exist\")\n",
    "    \n",
    "def print_spell_description(spell):\n",
    "    if spell:\n",
    "        list_items = [\"desc\", \"level\", \"casting_time\", \"range\", \"duration\", \"material\"]\n",
    "        for item in list_items:\n",
    "            do_key_check(spell, item)\n",
    "        \n",
    "def main():\n",
    "    \n",
    "    \n",
    "    final_spell = retrieve_user_spell(get_all_spells())    \n",
    "\n",
    "    print_spell_description(final_spell)\n",
    "\n",
    "\n",
    "    \n",
    "main()"
   ]
  },
  {
   "cell_type": "code",
   "execution_count": null,
   "metadata": {},
   "outputs": [],
   "source": []
  },
  {
   "cell_type": "code",
   "execution_count": null,
   "metadata": {},
   "outputs": [],
   "source": []
  }
 ],
 "metadata": {
  "kernelspec": {
   "display_name": "Python 3",
   "language": "python",
   "name": "python3"
  },
  "language_info": {
   "codemirror_mode": {
    "name": "ipython",
    "version": 3
   },
   "file_extension": ".py",
   "mimetype": "text/x-python",
   "name": "python",
   "nbconvert_exporter": "python",
   "pygments_lexer": "ipython3",
   "version": "3.8.3"
  }
 },
 "nbformat": 4,
 "nbformat_minor": 4
}
