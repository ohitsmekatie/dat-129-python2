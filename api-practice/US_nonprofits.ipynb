{
 "cells": [
  {
   "cell_type": "code",
   "execution_count": 1,
   "metadata": {},
   "outputs": [],
   "source": [
    "# documentation https://projects.propublica.org/nonprofits/api\n",
    "\n",
    "import requests, json \n",
    "\n",
    "# hardcoding the propublica nonprofit url \n",
    "# API_ENDPOINT = \"https://projects.propublica.org/nonprofits/api/v2\"\n",
    "\n",
    "#all data\n",
    "#response = requests.get(\"https://projects.propublica.org/nonprofits/api/v2/search.json?\")\n",
    "\n",
    "#just the organization propublica\n",
    "# response = requests.get(\"https://projects.propublica.org/nonprofits/api/v2/search.json?q=propublica\")\n",
    "\n",
    "# all organizations with the id of ( 7 - Public, Societal Benefit in this case) \n",
    "# response = requests.get(\"https://projects.propublica.org/nonprofits/api/v2/search.json?ntee%5Bid%5D=7\")\n",
    "\n",
    "#all organizations within PA\n",
    "#response = requests.get(\"https://projects.propublica.org/nonprofits/api/v2/search.json?state%5Bid%5D=PA\")\n",
    "\n",
    "# all organization with a specific taxcode\n",
    "# response = requests.get(\"https://projects.propublica.org/nonprofits/api/v2/search.json?c_code%5Bid%5D=3\")\n",
    "\n",
    "\n",
    "# print(response.status_code)\n",
    "# print(response.text)"
   ]
  },
  {
   "cell_type": "code",
   "execution_count": 1,
   "metadata": {},
   "outputs": [
    {
     "name": "stdout",
     "output_type": "stream",
     "text": [
      "What state would you like to see nonprofit information about? -ex input, PA -   NC\n",
      "Endpoint URL:  https://projects.propublica.org/nonprofits/api/v2/search.json?state%5Bid%5D=NC\n"
     ]
    },
    {
     "ename": "NameError",
     "evalue": "name 'requests' is not defined",
     "output_type": "error",
     "traceback": [
      "\u001b[0;31m---------------------------------------------------------------------------\u001b[0m",
      "\u001b[0;31mNameError\u001b[0m                                 Traceback (most recent call last)",
      "\u001b[0;32m<ipython-input-1-4c6ebdd23a76>\u001b[0m in \u001b[0;36m<module>\u001b[0;34m\u001b[0m\n\u001b[1;32m     27\u001b[0m     \u001b[0mprint_state_info\u001b[0m\u001b[0;34m(\u001b[0m\u001b[0mrequest_data\u001b[0m\u001b[0;34m,\u001b[0m \u001b[0musers_state\u001b[0m\u001b[0;34m)\u001b[0m\u001b[0;34m\u001b[0m\u001b[0;34m\u001b[0m\u001b[0m\n\u001b[1;32m     28\u001b[0m \u001b[0;34m\u001b[0m\u001b[0m\n\u001b[0;32m---> 29\u001b[0;31m \u001b[0mmain\u001b[0m\u001b[0;34m(\u001b[0m\u001b[0;34m)\u001b[0m\u001b[0;34m\u001b[0m\u001b[0;34m\u001b[0m\u001b[0m\n\u001b[0m",
      "\u001b[0;32m<ipython-input-1-4c6ebdd23a76>\u001b[0m in \u001b[0;36mmain\u001b[0;34m()\u001b[0m\n\u001b[1;32m     24\u001b[0m \u001b[0;32mdef\u001b[0m \u001b[0mmain\u001b[0m\u001b[0;34m(\u001b[0m\u001b[0;34m)\u001b[0m\u001b[0;34m:\u001b[0m\u001b[0;34m\u001b[0m\u001b[0;34m\u001b[0m\u001b[0m\n\u001b[1;32m     25\u001b[0m     \u001b[0musers_state\u001b[0m \u001b[0;34m=\u001b[0m \u001b[0minput\u001b[0m\u001b[0;34m(\u001b[0m\u001b[0;34m\"What state would you like to see nonprofit information about? -ex input, PA -   \"\u001b[0m\u001b[0;34m)\u001b[0m\u001b[0;34m\u001b[0m\u001b[0;34m\u001b[0m\u001b[0m\n\u001b[0;32m---> 26\u001b[0;31m     \u001b[0mrequest_data\u001b[0m \u001b[0;34m=\u001b[0m \u001b[0mmake_api_request\u001b[0m\u001b[0;34m(\u001b[0m\u001b[0mbuild_url\u001b[0m\u001b[0;34m(\u001b[0m\u001b[0musers_state\u001b[0m\u001b[0;34m)\u001b[0m\u001b[0;34m)\u001b[0m\u001b[0;34m\u001b[0m\u001b[0;34m\u001b[0m\u001b[0m\n\u001b[0m\u001b[1;32m     27\u001b[0m     \u001b[0mprint_state_info\u001b[0m\u001b[0;34m(\u001b[0m\u001b[0mrequest_data\u001b[0m\u001b[0;34m,\u001b[0m \u001b[0musers_state\u001b[0m\u001b[0;34m)\u001b[0m\u001b[0;34m\u001b[0m\u001b[0;34m\u001b[0m\u001b[0m\n\u001b[1;32m     28\u001b[0m \u001b[0;34m\u001b[0m\u001b[0m\n",
      "\u001b[0;32m<ipython-input-1-4c6ebdd23a76>\u001b[0m in \u001b[0;36mmake_api_request\u001b[0;34m(url)\u001b[0m\n\u001b[1;32m      8\u001b[0m \u001b[0;32mdef\u001b[0m \u001b[0mmake_api_request\u001b[0m\u001b[0;34m(\u001b[0m\u001b[0murl\u001b[0m\u001b[0;34m)\u001b[0m\u001b[0;34m:\u001b[0m\u001b[0;34m\u001b[0m\u001b[0;34m\u001b[0m\u001b[0m\n\u001b[1;32m      9\u001b[0m     \u001b[0;34m''' a function that turns that request data into usable data'''\u001b[0m\u001b[0;34m\u001b[0m\u001b[0;34m\u001b[0m\u001b[0m\n\u001b[0;32m---> 10\u001b[0;31m     \u001b[0mresponse\u001b[0m \u001b[0;34m=\u001b[0m \u001b[0mrequests\u001b[0m\u001b[0;34m.\u001b[0m\u001b[0mget\u001b[0m\u001b[0;34m(\u001b[0m\u001b[0murl\u001b[0m\u001b[0;34m)\u001b[0m\u001b[0;34m\u001b[0m\u001b[0;34m\u001b[0m\u001b[0m\n\u001b[0m\u001b[1;32m     11\u001b[0m     \u001b[0mprint\u001b[0m\u001b[0;34m(\u001b[0m\u001b[0;34m'Made request, response status: '\u001b[0m\u001b[0;34m,\u001b[0m \u001b[0mresponse\u001b[0m\u001b[0;34m.\u001b[0m\u001b[0mstatus_code\u001b[0m\u001b[0;34m)\u001b[0m\u001b[0;34m\u001b[0m\u001b[0;34m\u001b[0m\u001b[0m\n\u001b[1;32m     12\u001b[0m     \u001b[0;32mif\u001b[0m\u001b[0;34m(\u001b[0m\u001b[0mint\u001b[0m\u001b[0;34m(\u001b[0m\u001b[0mresponse\u001b[0m\u001b[0;34m.\u001b[0m\u001b[0mstatus_code\u001b[0m\u001b[0;34m)\u001b[0m \u001b[0;34m==\u001b[0m \u001b[0;36m200\u001b[0m\u001b[0;34m)\u001b[0m\u001b[0;34m:\u001b[0m\u001b[0;34m\u001b[0m\u001b[0;34m\u001b[0m\u001b[0m\n",
      "\u001b[0;31mNameError\u001b[0m: name 'requests' is not defined"
     ]
    }
   ],
   "source": [
    "def build_url(state):\n",
    "    ''' a function that builds a URL given a users state preference'''\n",
    "    API_ENDPOINT = \"https://projects.propublica.org/nonprofits/api/v2/search.json?\"\n",
    "    full_url = API_ENDPOINT + \"state%5Bid%5D=\" + state \n",
    "    print(\"Endpoint URL: \", full_url)\n",
    "    return full_url \n",
    "\n",
    "def make_api_request(url):\n",
    "    ''' a function that turns that request data into usable data'''\n",
    "    response = requests.get(url)\n",
    "    print('Made request, response status: ', response.status_code)\n",
    "    if(int(response.status_code) == 200):\n",
    "        payload_obj = json.loads(response.text)\n",
    "        return payload_obj\n",
    "    else:\n",
    "        return None\n",
    "\n",
    "def print_state_info(request_data, state):\n",
    "    ''' a function that takes in the dataset and users state and prints out how many nonprofits are in that state'''\n",
    "    print(\"There are\", request_data[\"total_results\"], \"nonprofits in\", state)\n",
    "    print()\n",
    "    \n",
    "    \n",
    "def main():\n",
    "    users_state = input(\"What state would you like to see nonprofit information about? -ex input, PA -   \")\n",
    "    request_data = make_api_request(build_url(users_state))\n",
    "    print_state_info(request_data, users_state)\n",
    "   \n",
    "main() "
   ]
  },
  {
   "cell_type": "code",
   "execution_count": null,
   "metadata": {},
   "outputs": [],
   "source": []
  }
 ],
 "metadata": {
  "kernelspec": {
   "display_name": "Python 3",
   "language": "python",
   "name": "python3"
  },
  "language_info": {
   "codemirror_mode": {
    "name": "ipython",
    "version": 3
   },
   "file_extension": ".py",
   "mimetype": "text/x-python",
   "name": "python",
   "nbconvert_exporter": "python",
   "pygments_lexer": "ipython3",
   "version": "3.8.3"
  }
 },
 "nbformat": 4,
 "nbformat_minor": 4
}
