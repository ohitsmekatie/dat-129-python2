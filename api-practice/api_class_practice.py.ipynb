{
 "cells": [
  {
   "cell_type": "code",
   "execution_count": 32,
   "metadata": {},
   "outputs": [],
   "source": [
    "import requests, json \n",
    "\n",
    "\n",
    "# connect to the NHTSA API \n",
    "# https://webapi.nhtsa.gov/Default.aspx?Recalls/API/83\n",
    "\n",
    "API_ENDPOINT = \"http://www.nhtsa.gov/webapi/api/\"\n",
    "\n",
    "# http://www.nhtsa.gov/webapi/api//Recalls/vehicle/modelyear/2000/make/saturn/model/ls?format=json\n",
    "\n",
    "# makes a request to the NHTSA api to get recall data for cars \n",
    "#response = requests.get(\"http://www.nhtsa.gov/webapi/api/Recalls/vehicle/modelyear/2000/make/saturn/model/ls?format=json\")\n",
    "\n",
    "# prints the status code of the GET request. 200 == okay, 400 == file doesn't exist, 500 = server errors \n",
    "# print(response.status_code)\n",
    "\n",
    "# prints what's in the GET request \n",
    "# print(response.text)\n",
    "\n",
    "payload_objects = json.loads(response.text)\n",
    "\n",
    "#print(payload_objects)\n",
    "\n",
    "recalls = payload_objects[\"Results\"]\n",
    "\n",
    "# for i in recalls:\n",
    "#     print(\"********** RECALL **********\")\n",
    "#     print(i)\n",
    "\n",
    "\n"
   ]
  },
  {
   "cell_type": "code",
   "execution_count": 35,
   "metadata": {},
   "outputs": [],
   "source": [
    "def build_url(year, make, model):\n",
    "    '''composes a request to NHSTA DB for recalls given a year,make,model'''\n",
    "    API_ENDPOINT = \"http://www.nhtsa.gov/webapi/api/\"\n",
    "    \n",
    "    # string formatting to input a user's specific make/mode/year \n",
    "    vehicle_safety_url = \"Recalls/vehicle/modelyear/%s/make/%s/model/%s?format=json\" % (year, make, model)\n",
    "    \n",
    "    full_url = API_ENDPOINT + vehicle_safety_url \n",
    "    print(\"URL: \", full_url)\n",
    "    return full_url"
   ]
  },
  {
   "cell_type": "code",
   "execution_count": 39,
   "metadata": {},
   "outputs": [
    {
     "name": "stdout",
     "output_type": "stream",
     "text": [
      "URL:  http://www.nhtsa.gov/webapi/api/Recalls/vehicle/modelyear/Toyota/make/Tacoma/model/2015?format=json\n",
      "Status code of the response:  200\n",
      "{'Count': 0, 'Message': 'Recalls: An error occured while processing this request. Pls verify the HTTP request syntax.'}\n"
     ]
    }
   ],
   "source": [
    "def make_api_request(url):\n",
    "        response = requests.get(url)\n",
    "        print(\"Status code of the response: \", response.status_code)\n",
    "        if int(response.status_code) == 200: \n",
    "            json_data = json.loads(response.text)\n",
    "            return json_data\n",
    "        else:\n",
    "            return None \n",
    "        \n",
    "print(make_api_request(build_url(\"Toyota\", \"Tacoma\", \"2015\")))        "
   ]
  },
  {
   "cell_type": "code",
   "execution_count": null,
   "metadata": {},
   "outputs": [],
   "source": [
    "    "
   ]
  },
  {
   "cell_type": "code",
   "execution_count": null,
   "metadata": {},
   "outputs": [],
   "source": []
  }
 ],
 "metadata": {
  "kernelspec": {
   "display_name": "Python 3",
   "language": "python",
   "name": "python3"
  },
  "language_info": {
   "codemirror_mode": {
    "name": "ipython",
    "version": 3
   },
   "file_extension": ".py",
   "mimetype": "text/x-python",
   "name": "python",
   "nbconvert_exporter": "python",
   "pygments_lexer": "ipython3",
   "version": "3.8.3"
  }
 },
 "nbformat": 4,
 "nbformat_minor": 4
}
