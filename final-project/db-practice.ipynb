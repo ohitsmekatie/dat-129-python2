{
 "cells": [
  {
   "cell_type": "code",
   "execution_count": 62,
   "metadata": {},
   "outputs": [
    {
     "name": "stdout",
     "output_type": "stream",
     "text": [
      "\n",
      "Table created or accessed successfully.\n"
     ]
    },
    {
     "name": "stderr",
     "output_type": "stream",
     "text": [
      "/Users/katie/opt/anaconda3/lib/python3.8/site-packages/pandas/core/generic.py:2653: UserWarning: The spaces in these column names will not be changed. In pandas versions < 0.14, spaces were converted to underscores.\n",
      "  sql.to_sql(\n"
     ]
    }
   ],
   "source": [
    "import sqlite3 as sql\n",
    "import pandas as pd\n",
    "import matplotlib.pyplot as plt\n",
    "\n",
    "\n",
    "planets = pd.read_csv(\"https://raw.githubusercontent.com/ohitsmekatie/dat-229-final-project/main/raw_csv_files/starwars_planets.csv\")\n",
    "# species = pd.read_csv(\"https://raw.githubusercontent.com/ohitsmekatie/dat-229-final-project/main/raw_csv_files/starwars_species.csv\")\n",
    "# people = pd.read_csv(\"https://raw.githubusercontent.com/ohitsmekatie/dat-229-final-project/main/raw_csv_files/starwars_people.csv\")\n",
    "\n",
    "dbconn = sql.connect('planets.db')\n",
    "cursor = dbconn.cursor()\n",
    "\n",
    "\n",
    "drop_table = '''\n",
    "    DROP TABLE IF EXISTS planets;\n",
    "    '''\n",
    "\n",
    "\n",
    "create_planet_table_sql = '''\n",
    "    CREATE TABLE IF NOT EXISTS\n",
    "        planets(\n",
    "        pid INTEGER PRIMARY KEY,\n",
    "        name TEXT NOT NULL,\n",
    "        rotation_period INT,\n",
    "        orbital_period INT,\n",
    "        diameter INT,\n",
    "        climate TEXT,\n",
    "        gravity INT,\n",
    "        terrain TEXT,\n",
    "        surface_water INT,\n",
    "        population INT\n",
    "\n",
    "    )\n",
    "'''\n",
    "\n",
    "\n",
    "cursor.execute(drop_table)\n",
    "\n",
    "dbconn.commit()\n",
    "ursor.execute(create_planet_table_sql)\n",
    "dbconn.commit()\n",
    "print()\n",
    "print('The planets table has been created successfully.')\n",
    "\n",
    "# inserting the planet data into the table \n",
    "planets.to_sql('planets', dbconn, if_exists='replace', index = False)\n",
    "dbconn.commit()\n",
    "\n",
    "# species.to_sql(\"species\", dbconn, if_exists = \"replace\", index = False) \n",
    "# people.to_sql(\"people\", dbconn, if_exists = \"replace\", index = False) "
   ]
  },
  {
   "cell_type": "code",
   "execution_count": 75,
   "metadata": {},
   "outputs": [
    {
     "name": "stdout",
     "output_type": "stream",
     "text": [
      "     name population\n",
      "0  Bespin    6000000\n"
     ]
    }
   ],
   "source": [
    "\n",
    "planet_query = \"\"\"\n",
    "    SELECT * FROM planets;\n",
    "\"\"\"\n",
    "\n",
    "\n",
    "\n",
    "cursor.execute(planet_query)\n",
    "records_list = cursor.fetchall()\n",
    "#print(records_list)\n",
    "dbconn.commit() \n",
    "\n",
    "max_population = pd.read_sql(\"SELECT name, MAX(population) as population from planets where population <> 'unknown'\", dbconn)\n",
    "print(max_population)\n",
    "\n",
    "# planet_df = pd.DataFrame(records, columns = [\"row_id\", \"name\", \"rotation_period\", \"orbital_period\", \"diameter\", \"climate\", \"gravity\", \"terrain\", \"surface_water\", \"population\"])\n",
    "# planet_df\n",
    "\n",
    "\n",
    "\n",
    "# planets_all = pd.read_sql('SELECT * FROM planets', dbconn)\n",
    "# planets_all_clean = planets_all[[\"name\", \"rotation_period\", \"orbital_period\", \"diameter\", \"climate\", \"terrain\", \"surface_water\", \"population\"]]\n",
    "\n",
    "#print(planets_all_clean)\n",
    "# species_all = pd.read_sql(\"SELECT * FROM species\", dbconn)\n",
    "# species_all_clean = species_all[[\"name\", \"classification\", \"designation\", \"average_height\", \"skin_colors\", \"hair_colors\", \"eye_colors\", \"average_lifespan\"]]\n",
    "\n",
    "# people_all = pd.read_sql(\"SELECT * FROM people\", dbconn)\n",
    "# people_all_clean = people_all[[\"name\", \"height\", \"mass\", \"hair_color\", \"skin_color\", \"eye_color\", \"birth_year\", \"gender\"]]\n",
    "# print(species_all)\n",
    "\n"
   ]
  },
  {
   "cell_type": "code",
   "execution_count": null,
   "metadata": {},
   "outputs": [],
   "source": []
  },
  {
   "cell_type": "code",
   "execution_count": null,
   "metadata": {},
   "outputs": [],
   "source": []
  },
  {
   "cell_type": "code",
   "execution_count": null,
   "metadata": {},
   "outputs": [],
   "source": []
  },
  {
   "cell_type": "code",
   "execution_count": null,
   "metadata": {},
   "outputs": [],
   "source": []
  }
 ],
 "metadata": {
  "kernelspec": {
   "display_name": "Python 3",
   "language": "python",
   "name": "python3"
  },
  "language_info": {
   "codemirror_mode": {
    "name": "ipython",
    "version": 3
   },
   "file_extension": ".py",
   "mimetype": "text/x-python",
   "name": "python",
   "nbconvert_exporter": "python",
   "pygments_lexer": "ipython3",
   "version": "3.8.3"
  }
 },
 "nbformat": 4,
 "nbformat_minor": 4
}
