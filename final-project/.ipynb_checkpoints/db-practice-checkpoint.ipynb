{
 "cells": [
  {
   "cell_type": "code",
   "execution_count": 44,
   "metadata": {},
   "outputs": [],
   "source": [
    "import sqlite3 as sql\n",
    "import pandas as pd\n",
    "import matplotlib.pyplot as plt\n",
    "\n",
    "\n",
    "planets = pd.read_csv(\"https://raw.githubusercontent.com/ohitsmekatie/dat-229-final-project/main/raw_csv_files/starwars_planets.csv\")\n",
    "# species = pd.read_csv(\"https://raw.githubusercontent.com/ohitsmekatie/dat-229-final-project/main/raw_csv_files/starwars_species.csv\")\n",
    "# people = pd.read_csv(\"https://raw.githubusercontent.com/ohitsmekatie/dat-229-final-project/main/raw_csv_files/starwars_people.csv\")\n",
    "\n",
    "dbconn = sql.connect('planets.db')\n",
    "cursor = dbconn.cursor()\n",
    "\n",
    "planets.to_sql('planets', dbconn, if_exists='replace', index = False)\n",
    "dbconn.commit()\n",
    "\n",
    "# species.to_sql(\"species\", dbconn, if_exists = \"replace\", index = False) \n",
    "# people.to_sql(\"people\", dbconn, if_exists = \"replace\", index = False) "
   ]
  },
  {
   "cell_type": "code",
   "execution_count": 50,
   "metadata": {},
   "outputs": [
    {
     "ename": "SyntaxError",
     "evalue": "positional argument follows keyword argument (<ipython-input-50-0eb26b2cdfd0>, line 11)",
     "output_type": "error",
     "traceback": [
      "\u001b[0;36m  File \u001b[0;32m\"<ipython-input-50-0eb26b2cdfd0>\"\u001b[0;36m, line \u001b[0;32m11\u001b[0m\n\u001b[0;31m    planet_df = pd.DataFrame(records, columns = \"name\", \"rotation_period\", \"orbital_period\", \"diameter\", \"climate\", \"gravity\", \"terrain\", \"surface_water\", \"population\")\u001b[0m\n\u001b[0m                                                        ^\u001b[0m\n\u001b[0;31mSyntaxError\u001b[0m\u001b[0;31m:\u001b[0m positional argument follows keyword argument\n"
     ]
    }
   ],
   "source": [
    "\n",
    "planet_query = \"\"\"\n",
    "    SELECT * FROM planets where name = \"Tatooine\"\n",
    "\"\"\"\n",
    "\n",
    "cursor.execute(planet_query)\n",
    "records = cursor.fetchall()\n",
    "print(records)\n",
    "dbconn.commit() \n",
    "\n",
    "df = DataFrame (your_list,columns=['Column_Name'])\n",
    "planet_df = pd.DataFrame(records, columns = [\"name\", \"rotation_period\", \"orbital_period\", \"diameter\", \"climate\", \"gravity\", \"terrain\", \"surface_water\", \"population\"])\n",
    "planet_df\n",
    "\n",
    "# planets_all = pd.read_sql('SELECT * FROM planets', dbconn)\n",
    "# planets_all_clean = planets_all[[\"name\", \"rotation_period\", \"orbital_period\", \"diameter\", \"climate\", \"terrain\", \"surface_water\", \"population\"]]\n",
    "\n",
    "#print(planets_all_clean)\n",
    "# species_all = pd.read_sql(\"SELECT * FROM species\", dbconn)\n",
    "# species_all_clean = species_all[[\"name\", \"classification\", \"designation\", \"average_height\", \"skin_colors\", \"hair_colors\", \"eye_colors\", \"average_lifespan\"]]\n",
    "\n",
    "# people_all = pd.read_sql(\"SELECT * FROM people\", dbconn)\n",
    "# people_all_clean = people_all[[\"name\", \"height\", \"mass\", \"hair_color\", \"skin_color\", \"eye_color\", \"birth_year\", \"gender\"]]\n",
    "# print(species_all)\n",
    "\n"
   ]
  },
  {
   "cell_type": "code",
   "execution_count": null,
   "metadata": {},
   "outputs": [],
   "source": []
  },
  {
   "cell_type": "code",
   "execution_count": null,
   "metadata": {},
   "outputs": [],
   "source": []
  },
  {
   "cell_type": "code",
   "execution_count": null,
   "metadata": {},
   "outputs": [],
   "source": []
  },
  {
   "cell_type": "code",
   "execution_count": null,
   "metadata": {},
   "outputs": [],
   "source": []
  }
 ],
 "metadata": {
  "kernelspec": {
   "display_name": "Python 3",
   "language": "python",
   "name": "python3"
  },
  "language_info": {
   "codemirror_mode": {
    "name": "ipython",
    "version": 3
   },
   "file_extension": ".py",
   "mimetype": "text/x-python",
   "name": "python",
   "nbconvert_exporter": "python",
   "pygments_lexer": "ipython3",
   "version": "3.8.3"
  }
 },
 "nbformat": 4,
 "nbformat_minor": 4
}
