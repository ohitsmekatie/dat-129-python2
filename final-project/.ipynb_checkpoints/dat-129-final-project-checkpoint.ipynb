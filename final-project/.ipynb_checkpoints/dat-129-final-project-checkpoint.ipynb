{
 "cells": [
  {
   "cell_type": "code",
   "execution_count": 10,
   "metadata": {},
   "outputs": [
    {
     "name": "stdout",
     "output_type": "stream",
     "text": [
      "\n",
      "The planets table has been created successfully and the planet data has been inserted.\n",
      "\n",
      "The films table has been created successfully and the film data has been inserted.\n"
     ]
    }
   ],
   "source": [
    "##### PROGRAM SETUP #####\n",
    "\n",
    "# NOTE: please run all cells in order. \n",
    "\n",
    "import sqlite3 as sql\n",
    "import pandas as pd\n",
    "import matplotlib.pyplot as plt\n",
    "from func import * \n",
    "\n",
    "# I cleaned up and read in the data from the API in a project for Tabular & Linked data so for ease i'm just referencing the CSVs \n",
    "# /notebooks/dat-229-final-project/raw_csv_files/get-final-project-csvs.ipynb\n",
    "\n",
    "\n",
    "planets = pd.read_csv(\"https://raw.githubusercontent.com/ohitsmekatie/dat-229-final-project/main/raw_csv_files/starwars_planets.csv\")\n",
    "# species = pd.read_csv(\"https://raw.githubusercontent.com/ohitsmekatie/dat-229-final-project/main/raw_csv_files/starwars_species.csv\")\n",
    "# people = pd.read_csv(\"https://raw.githubusercontent.com/ohitsmekatie/dat-229-final-project/main/raw_csv_files/starwars_people.csv\")\n",
    "films = pd.read_csv(\"https://raw.githubusercontent.com/ohitsmekatie/dat-229-final-project/main/raw_csv_files/starwars_films.csv\")\n",
    "clean_films = pd.DataFrame(films, columns = [\"title\", \"opening_crawl\", \"director\", \"release_date\"])\n",
    "clean_planets = pd.DataFrame(planets, columns = [\"name\", \"rotation_period\", \"orbital_period\", \"diameter\", \"climate\", \"gravity\", \"terrain\", \"surface_water\", \"population\"])\n",
    "\n",
    "\n",
    "dbconn, cursor = create_db_connection()\n",
    "create_planet_table(dbconn, cursor)\n",
    "create_film_table(dbconn, cursor)"
   ]
  },
  {
   "cell_type": "markdown",
   "metadata": {},
   "source": [
    "## Star Wars film stats "
   ]
  },
  {
   "cell_type": "code",
   "execution_count": 12,
   "metadata": {},
   "outputs": [
    {
     "name": "stdout",
     "output_type": "stream",
     "text": [
      "   num_of_films\n",
      "0             6\n",
      "\n",
      "   num_of_lucas_directed_films\n",
      "0                            4\n",
      "\n",
      "\n",
      "These films were not directed by George Lucas:\n",
      "The Empire Strikes Back\n",
      "Return of the Jedi\n",
      "\n",
      "\n",
      "Fun fact! All of the Star Wars movies were released in May!\n",
      "\n",
      "                     title release_date\n",
      "0               A New Hope   1977-05-25\n",
      "1  The Empire Strikes Back   1980-05-17\n",
      "2       Return of the Jedi   1983-05-25\n",
      "3       The Phantom Menace   1999-05-19\n",
      "4     Attack of the Clones   2002-05-16\n",
      "5      Revenge of the Sith   2005-05-19\n",
      "\n",
      "\n",
      "\n",
      "Each Star Wars movie started with an opening text crawl that gave an overview of the current state of the Star Wars universe.\n",
      "\n",
      "Here is an example of one from Return of the Jedi: \n",
      "\n",
      "Luke Skywalker has returned to\r\n",
      "his home planet of Tatooine in\r\n",
      "an attempt to rescue his\r\n",
      "friend Han Solo from the\r\n",
      "clutches of the vile gangster\r\n",
      "Jabba the Hutt.\r\n",
      "\r\n",
      "Little does Luke know that the\r\n",
      "GALACTIC EMPIRE has secretly\r\n",
      "begun construction on a new\r\n",
      "armored space station even\r\n",
      "more powerful than the first\r\n",
      "dreaded Death Star.\r\n",
      "\r\n",
      "When completed, this ultimate\r\n",
      "weapon will spell certain doom\r\n",
      "for the small band of rebels\r\n",
      "struggling to restore freedom\r\n",
      "to the galaxy...\n",
      "\n",
      "A New Hope: 3132\n",
      "The Empire strikes back: 3024\n",
      "Return of the Jedi: 2868\n",
      "The Phantom Menace: 3060\n",
      "Attack of the Clones: 3048\n",
      "Revenge of the Sith: 2994\n",
      "\n",
      "The average num of characters in a Star Wars crawl is 3021.0\n",
      "A New Hope had the most characters with a count of 3132\n",
      "\n",
      "\n",
      "Summary stats about Star Wars planets \n",
      "\n",
      "Planets in the Star Wars world:  \n",
      "Tatooine\n",
      "Alderaan\n",
      "Yavin IV\n",
      "Hoth\n",
      "Dagobah\n",
      "Bespin\n",
      "Endor\n",
      "Naboo\n",
      "Coruscant\n",
      "Kamino\n",
      "\n",
      "   num_of_planets\n",
      "0              10\n",
      "\n",
      "     name highest_populated_planet\n",
      "0  Bespin                  6000000\n",
      "\n",
      "       name lowest_populated_planet\n",
      "0  Yavin IV                    1000\n",
      "\n",
      "The most commonly occuring climate in the Star Wars universe is 'temperate':\n"
     ]
    },
    {
     "data": {
      "image/png": "[encoded data removed]",
      "text/plain": [
       "<Figure size 432x288 with 1 Axes>"
      ]
     },
     "metadata": {
      "needs_background": "light"
     },
     "output_type": "display_data"
    }
   ],
   "source": [
    "film_stats()\n",
    "print()\n",
    "print()\n",
    "crawl_stats()\n",
    "print()\n",
    "print()\n",
    "show_planet_summary()"
   ]
  },
  {
   "cell_type": "markdown",
   "metadata": {},
   "source": [
    "## Where would you live in the Star Wars universe?"
   ]
  },
  {
   "cell_type": "code",
   "execution_count": 13,
   "metadata": {},
   "outputs": [
    {
     "name": "stdout",
     "output_type": "stream",
     "text": [
      "Let's find out what planet you could live on based on population density.\n",
      "\n",
      "Choose the option that best suits you:\n",
      "\n",
      "    1. Not being bothered by lots of people/aliens sounds great. 100 miles to the closest store? Totally fine.\n",
      "    2. I like some action, but don't want it to be in my face all the time. Seeing humans/aliens from time to time sounds good to me.\n",
      "    3. Pack me into a highrise complex with tons of people any day. I want to roll out of bed and be surrounded by people/aliens. \n",
      "\n",
      "    \n",
      "Type the number of the option: 2\n",
      "\n",
      "You would probably like living on the following planets:\n",
      "\n",
      "       name  population\n",
      "0  Alderaan  2000000000\n",
      "1  Tatooine      200000\n"
     ]
    }
   ],
   "source": [
    "show_ideal_planet(get_preference())"
   ]
  },
  {
   "cell_type": "markdown",
   "metadata": {},
   "source": [
    "## Star Wars film quiz"
   ]
  },
  {
   "cell_type": "code",
   "execution_count": 14,
   "metadata": {},
   "outputs": [
    {
     "name": "stdout",
     "output_type": "stream",
     "text": [
      "\n",
      "\n",
      "Let's see how much you know about Star Wars so far!\n",
      "\n",
      "How many Star Wars movies are there? Type a number guess: 4\n",
      "\n",
      "Sorry, that's wrong. There are 6 movies in the Star Wars franchise. Better luck next time.\n",
      "\n",
      "A New Hope\n",
      "The Empire Strikes Back\n",
      "Return of the Jedi\n",
      "The Phantom Menace\n",
      "Attack of the Clones\n",
      "Revenge of the Sith\n",
      "How many planets are there in the Star Wars universe? Type a number guess: 2\n",
      "\n",
      "Sorry, that's wrong. There are 10 planets in the Star Wars universe. Better luck next time.\n",
      "\n",
      "Tatooine\n",
      "Alderaan\n",
      "Yavin IV\n",
      "Hoth\n",
      "Dagobah\n",
      "Bespin\n",
      "Endor\n",
      "Naboo\n",
      "Coruscant\n",
      "Kamino\n",
      "\n",
      "How many films did George Lucas direct? Type a number guess. 1\n",
      "\n",
      "Sorry, that's wrong. George Lucas direct 4 out of the 6 Star Wars films. Better luck next time.\n",
      "\n",
      "In which month were all the Star Wars movies released?\n",
      "\n",
      "    1. January\n",
      "    2. March\n",
      "    3. October\n",
      "    4. May \n",
      "    \n",
      "Type the number that corresponds to your guess: 4\n",
      "\n",
      "That's correct! All of the Star Wars movies were released in May. Good job!\n",
      "\n",
      "\n",
      "\n",
      "Your total number of points: 1 out of 4 total points.\n"
     ]
    }
   ],
   "source": [
    "##### FILM QUIZ ##### \n",
    "\n",
    "print()\n",
    "print()\n",
    "film_quiz()"
   ]
  },
  {
   "cell_type": "code",
   "execution_count": null,
   "metadata": {},
   "outputs": [],
   "source": [
    "dbconn.close()\n",
    "cursor.close()"
   ]
  },
  {
   "cell_type": "code",
   "execution_count": null,
   "metadata": {},
   "outputs": [],
   "source": []
  },
  {
   "cell_type": "code",
   "execution_count": null,
   "metadata": {},
   "outputs": [],
   "source": []
  },
  {
   "cell_type": "code",
   "execution_count": null,
   "metadata": {},
   "outputs": [],
   "source": []
  }
 ],
 "metadata": {
  "kernelspec": {
   "display_name": "Python 3",
   "language": "python",
   "name": "python3"
  },
  "language_info": {
   "codemirror_mode": {
    "name": "ipython",
    "version": 3
   },
   "file_extension": ".py",
   "mimetype": "text/x-python",
   "name": "python",
   "nbconvert_exporter": "python",
   "pygments_lexer": "ipython3",
   "version": "3.8.8"
  }
 },
 "nbformat": 4,
 "nbformat_minor": 4
}
