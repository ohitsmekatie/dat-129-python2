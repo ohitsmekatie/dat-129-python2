{
 "cells": [
  {
   "cell_type": "code",
   "execution_count": 4,
   "metadata": {},
   "outputs": [
    {
     "name": "stdout",
     "output_type": "stream",
     "text": [
      "14\n"
     ]
    }
   ],
   "source": [
    "# Ideas for project \n",
    "# Show user a menu \n",
    "# Show planet stats, people stats, species stats \n",
    "\n",
    "import json, requests, sys, pandas as pd \n",
    "\n",
    "BASE_URL = \"https://swapi.dev/api/\"\n",
    "\n",
    "# testing to see what's available \n",
    "# response = requests.get(\"http://swapi.dev/api/people/\")\n",
    "#response = requests.get(\"http://swapi.dev/api/planets/\")\n",
    "# response = requests.get(\"http://swapi.dev/api/species/\")\n",
    "# response = requests.get(\"http://swapi.dev/api/starships/\")\n",
    "# response = requests.get(\"http://swapi.dev/api/vehicles/\")\n",
    "\n",
    "response = requests.get(BASE_URL)\n",
    "payload = json.loads(response.text)\n",
    "#print(response.status_code)\n",
    "\n",
    "people_url = payload[\"people\"] \n",
    "species_url = payload[\"species\"]\n",
    "planet_url = payload[\"planets\"]\n",
    "\n",
    "people_response = requests.get(people_url)\n",
    "species_response = requests.get(species_url)\n",
    "planet_response = requests.get(planet_url)\n",
    "\n",
    "people_payload = json.loads(people_response.text)\n",
    "species_payload = json.loads(species_response.text)\n",
    "planet_payload = json.loads(planet_response.text)\n",
    "\n",
    "# prints first result in data set \n",
    "# print(people_payload[\"results\"][0])\n",
    "# print(species_payload[\"results\"][0])\n",
    "\n",
    "#to_csv \n",
    "\n",
    "dataset = pd.DataFrame(species_payload[\"results\"])\n",
    "planet_dataset = pd.DataFrame(planet_payload[\"results\"])\n",
    "\n",
    "\n",
    "print(planet_dataset[\"climate\"])\n",
    "\n",
    "planet_climate_count = 0 \n",
    "\n",
    "# for planet in planet_dataset:\n",
    "#     planet_climate_count += 1\n",
    "\n",
    "print(planet_climate_count)\n",
    "# list(dataset[\"average_height\"])\n",
    "\n",
    "\n",
    "\n",
    "# for name in dataset[\"name\"]:\n",
    "#     print(name)\n"
   ]
  },
  {
   "cell_type": "code",
   "execution_count": null,
   "metadata": {},
   "outputs": [],
   "source": []
  }
 ],
 "metadata": {
  "kernelspec": {
   "display_name": "Python 3",
   "language": "python",
   "name": "python3"
  },
  "language_info": {
   "codemirror_mode": {
    "name": "ipython",
    "version": 3
   },
   "file_extension": ".py",
   "mimetype": "text/x-python",
   "name": "python",
   "nbconvert_exporter": "python",
   "pygments_lexer": "ipython3",
   "version": "3.8.3"
  }
 },
 "nbformat": 4,
 "nbformat_minor": 4
}
