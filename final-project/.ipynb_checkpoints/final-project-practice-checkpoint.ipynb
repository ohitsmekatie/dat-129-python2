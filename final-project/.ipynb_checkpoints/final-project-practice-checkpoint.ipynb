{
 "cells": [
  {
   "cell_type": "code",
   "execution_count": 16,
   "metadata": {},
   "outputs": [
    {
     "data": {
      "text/plain": [
       "0    180\n",
       "1    n/a\n",
       "2    210\n",
       "3    170\n",
       "4    300\n",
       "5     66\n",
       "6    200\n",
       "7    160\n",
       "8    100\n",
       "9    180\n",
       "Name: average_height, dtype: object"
      ]
     },
     "execution_count": 16,
     "metadata": {},
     "output_type": "execute_result"
    }
   ],
   "source": [
    "# Ideas for project \n",
    "# Show user a menu \n",
    "# Show planet stats, people stats, species stats \n",
    "\n",
    "import json, requests, sys, pandas as pd \n",
    "\n",
    "BASE_URL = \"https://swapi.dev/api/\"\n",
    "\n",
    "# testing to see what's available \n",
    "# response = requests.get(\"http://swapi.dev/api/people/\")\n",
    "#response = requests.get(\"http://swapi.dev/api/planets/\")\n",
    "# response = requests.get(\"http://swapi.dev/api/species/\")\n",
    "# response = requests.get(\"http://swapi.dev/api/starships/\")\n",
    "# response = requests.get(\"http://swapi.dev/api/vehicles/\")\n",
    "\n",
    "response = requests.get(BASE_URL)\n",
    "payload = json.loads(response.text)\n",
    "#print(response.status_code)\n",
    "\n",
    "people_url = payload[\"people\"] \n",
    "species_url = payload[\"species\"]\n",
    "\n",
    "response1 = requests.get(people_url)\n",
    "response2 = requests.get(species_url)\n",
    "\n",
    "people_payload = json.loads(response1.text)\n",
    "species_payload = json.loads(response2.text)\n",
    "\n",
    "# prints first result in data set \n",
    "# print(people_payload[\"results\"][0])\n",
    "# print(species_payload[\"results\"][0])\n",
    "\n",
    "#to_csv \n",
    "\n",
    "dataset = pd.DataFrame(species_payload[\"results\"])\n",
    "\n",
    "list(dataset[\"average_height\"])\n",
    "\n",
    "\n",
    "# for name in dataset[\"name\"]:\n",
    "#     print(name)\n"
   ]
  },
  {
   "cell_type": "code",
   "execution_count": null,
   "metadata": {},
   "outputs": [],
   "source": []
  }
 ],
 "metadata": {
  "kernelspec": {
   "display_name": "Python 3",
   "language": "python",
   "name": "python3"
  },
  "language_info": {
   "codemirror_mode": {
    "name": "ipython",
    "version": 3
   },
   "file_extension": ".py",
   "mimetype": "text/x-python",
   "name": "python",
   "nbconvert_exporter": "python",
   "pygments_lexer": "ipython3",
   "version": "3.8.3"
  }
 },
 "nbformat": 4,
 "nbformat_minor": 4
}
