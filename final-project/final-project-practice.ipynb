{
 "cells": [
  {
   "cell_type": "code",
   "execution_count": 24,
   "metadata": {},
   "outputs": [
    {
     "name": "stdout",
     "output_type": "stream",
     "text": [
      "{'name': 'Luke Skywalker', 'height': '172', 'mass': '77', 'hair_color': 'blond', 'skin_color': 'fair', 'eye_color': 'blue', 'birth_year': '19BBY', 'gender': 'male', 'homeworld': 'http://swapi.dev/api/planets/1/', 'films': ['http://swapi.dev/api/films/1/', 'http://swapi.dev/api/films/2/', 'http://swapi.dev/api/films/3/', 'http://swapi.dev/api/films/6/'], 'species': [], 'vehicles': ['http://swapi.dev/api/vehicles/14/', 'http://swapi.dev/api/vehicles/30/'], 'starships': ['http://swapi.dev/api/starships/12/', 'http://swapi.dev/api/starships/22/'], 'created': '2014-12-09T13:50:51.644000Z', 'edited': '2014-12-20T21:17:56.891000Z', 'url': 'http://swapi.dev/api/people/1/'}\n",
      "{'name': 'Human', 'classification': 'mammal', 'designation': 'sentient', 'average_height': '180', 'skin_colors': 'caucasian, black, asian, hispanic', 'hair_colors': 'blonde, brown, black, red', 'eye_colors': 'brown, blue, green, hazel, grey, amber', 'average_lifespan': '120', 'homeworld': 'http://swapi.dev/api/planets/9/', 'language': 'Galactic Basic', 'people': ['http://swapi.dev/api/people/66/', 'http://swapi.dev/api/people/67/', 'http://swapi.dev/api/people/68/', 'http://swapi.dev/api/people/74/'], 'films': ['http://swapi.dev/api/films/1/', 'http://swapi.dev/api/films/2/', 'http://swapi.dev/api/films/3/', 'http://swapi.dev/api/films/4/', 'http://swapi.dev/api/films/5/', 'http://swapi.dev/api/films/6/'], 'created': '2014-12-10T13:52:11.567000Z', 'edited': '2014-12-20T21:36:42.136000Z', 'url': 'http://swapi.dev/api/species/1/'}\n"
     ]
    }
   ],
   "source": [
    "# Ideas for project \n",
    "# Show user a menu \n",
    "# Show planet stats, people stats, species stats \n",
    "\n",
    "import json, requests, sys \n",
    "\n",
    "BASE_URL = \"https://swapi.dev/api/\"\n",
    "\n",
    "# testing to see what's available \n",
    "# response = requests.get(\"http://swapi.dev/api/people/\")\n",
    "#response = requests.get(\"http://swapi.dev/api/planets/\")\n",
    "# response = requests.get(\"http://swapi.dev/api/species/\")\n",
    "# response = requests.get(\"http://swapi.dev/api/starships/\")\n",
    "# response = requests.get(\"http://swapi.dev/api/vehicles/\")\n",
    "\n",
    "response = requests.get(BASE_URL)\n",
    "payload = json.loads(response.text)\n",
    "#print(response.status_code)\n",
    "\n",
    "people_url = payload[\"people\"] \n",
    "species_url = payload[\"species\"]\n",
    "\n",
    "response1 = requests.get(people_url)\n",
    "response2 = requests.get(species_url)\n",
    "\n",
    "people_payload = json.loads(response1.text)\n",
    "species_payload = json.loads(response2.text)\n",
    "\n",
    "# prints first result in data set \n",
    "print(people_payload[\"results\"][0])\n",
    "print(species_payload[\"results\"][0])\n",
    "\n",
    "\n",
    "\n"
   ]
  },
  {
   "cell_type": "code",
   "execution_count": null,
   "metadata": {},
   "outputs": [],
   "source": []
  }
 ],
 "metadata": {
  "kernelspec": {
   "display_name": "Python 3",
   "language": "python",
   "name": "python3"
  },
  "language_info": {
   "codemirror_mode": {
    "name": "ipython",
    "version": 3
   },
   "file_extension": ".py",
   "mimetype": "text/x-python",
   "name": "python",
   "nbconvert_exporter": "python",
   "pygments_lexer": "ipython3",
   "version": "3.8.3"
  }
 },
 "nbformat": 4,
 "nbformat_minor": 4
}
