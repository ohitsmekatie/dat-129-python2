{
 "cells": [
  {
   "cell_type": "code",
   "execution_count": 17,
   "metadata": {},
   "outputs": [
    {
     "data": {
      "text/plain": [
       "['180', 'n/a', '210', '170', '300', '66', '200', '160', '100', '180']"
      ]
     },
     "execution_count": 17,
     "metadata": {},
     "output_type": "execute_result"
    }
   ],
   "source": [
    "# Ideas for project \n",
    "# Show user a menu \n",
    "# Show planet stats, people stats, species stats \n",
    "\n",
    "import json, requests, sys, pandas as pd \n",
    "\n",
    "BASE_URL = \"https://swapi.dev/api/\"\n",
    "\n",
    "# testing to see what's available \n",
    "# response = requests.get(\"http://swapi.dev/api/people/\")\n",
    "#response = requests.get(\"http://swapi.dev/api/planets/\")\n",
    "# response = requests.get(\"http://swapi.dev/api/species/\")\n",
    "# response = requests.get(\"http://swapi.dev/api/starships/\")\n",
    "# response = requests.get(\"http://swapi.dev/api/vehicles/\")\n",
    "\n",
    "response = requests.get(BASE_URL)\n",
    "payload = json.loads(response.text)\n",
    "#print(response.status_code)\n",
    "\n",
    "people_url = payload[\"people\"] \n",
    "species_url = payload[\"species\"]\n",
    "\n",
    "response1 = requests.get(people_url)\n",
    "response2 = requests.get(species_url)\n",
    "\n",
    "people_payload = json.loads(response1.text)\n",
    "species_payload = json.loads(response2.text)\n",
    "\n",
    "# prints first result in data set \n",
    "# print(people_payload[\"results\"][0])\n",
    "# print(species_payload[\"results\"][0])\n",
    "\n",
    "#to_csv \n",
    "\n",
    "dataset = pd.DataFrame(species_payload[\"results\"])\n",
    "\n",
    "list(dataset[\"average_height\"])\n",
    "\n",
    "\n",
    "\n",
    "# for name in dataset[\"name\"]:\n",
    "#     print(name)\n"
   ]
  },
  {
   "cell_type": "code",
   "execution_count": null,
   "metadata": {},
   "outputs": [],
   "source": []
  }
 ],
 "metadata": {
  "kernelspec": {
   "display_name": "Python 3",
   "language": "python",
   "name": "python3"
  },
  "language_info": {
   "codemirror_mode": {
    "name": "ipython",
    "version": 3
   },
   "file_extension": ".py",
   "mimetype": "text/x-python",
   "name": "python",
   "nbconvert_exporter": "python",
   "pygments_lexer": "ipython3",
   "version": "3.8.3"
  }
 },
 "nbformat": 4,
 "nbformat_minor": 4
}
