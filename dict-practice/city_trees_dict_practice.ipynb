{
 "cells": [
  {
   "cell_type": "markdown",
   "metadata": {},
   "source": [
    "## City of Pittsburgh trees\n",
    "\n",
    "This notebook includes some basic analysis on Pittsburgh trees. The dataset can be found [here](https://data.wprdc.org/dataset/city-trees). \n",
    "\n",
    "**It answers the questions:**\n",
    "\n",
    "1. What are the different types of trees in Pittsburgh?\n",
    "2. What are the counts of those trees?\n",
    "3. How many trees are there in pittsburgh? What is the unique tree type count?\n",
    "4. How many trees are in each neighborhood? \n",
    "5. What is the most commonly occuring growth space type for a tree—medians, parkways, open or unrestricted, etc?\n"
   ]
  },
  {
   "cell_type": "code",
   "execution_count": null,
   "metadata": {},
   "outputs": [],
   "source": [
    "# TODO\n",
    "# print top 5 occuring trees\n",
    "# remove non-classified/empty dictionary keys \n",
    "# sort by value for counts \n",
    "# make it interactive? "
   ]
  },
  {
   "cell_type": "markdown",
   "metadata": {},
   "source": [
    "## First we'll start with the different tree types in Pittsburgh and their counts. "
   ]
  },
  {
   "cell_type": "code",
   "execution_count": null,
   "metadata": {},
   "outputs": [],
   "source": [
    "import csv\n",
    "\n",
    "# a dictionary to store the tree types and their counts \n",
    "\n",
    "tree_summary = {\"tree_type\": {},}\n",
    "\n",
    "with open(\"city-pgh-trees.csv\") as tree_file: \n",
    "    dreader = csv.DictReader(tree_file)\n",
    "#     print(dreader.fieldnames)\n",
    "    tree_counter = 0\n",
    "    unique_tree_counter = 0\n",
    "    \n",
    "    \n",
    "    for record in dreader:        \n",
    "        tree_counter += 1\n",
    "        if record[\"common_name\"] not in tree_summary[\"tree_type\"]:\n",
    "            unique_tree_counter += 1\n",
    "            tree_summary[\"tree_type\"][record[\"common_name\"]] = 1\n",
    "        else:\n",
    "            tree_summary[\"tree_type\"][record[\"common_name\"]] +=1            \n",
    "\n",
    "    \n",
    "    print(\"There are\", tree_counter, \"total trees recorded in the city of Pittsburgh\\n\")\n",
    "    print(\"There are\", unique_tree_counter, \"unique types of trees recorded in the city of Pittsburgh\\n\\n\")\n",
    "    \n",
    "    print(\"The top 10 most commonly occurring trees in the city of Pittsburgh are: \")\n",
    "    \n",
    "    # used the lambda idea from class to reverse the list and print the top 10 commonly occurring trees \n",
    "    # set key as the tree name, the tree count, and reverse the list\n",
    "    count = 0 \n",
    "    for item in sorted(tree_summary[\"tree_type\"].items(), key = lambda item: item[1], reverse = True):\n",
    "        print(item[0] + \":\", item[1])\n",
    "        count += 1\n",
    "        if count >= 10:\n",
    "            break\n",
    "\n",
    "    # gives the user the option to print out all the trees because it's a pretty long list\n",
    "    \n",
    "    user_input = input(\"\\n\\nDo you want to see a list of all the tree counts in Pittsburgh? Type Y or N: \")\n",
    "    print(\"\\n\")\n",
    "    \n",
    "    if user_input == \"Y\":\n",
    "        for key in sorted(tree_summary[\"tree_type\"]):\n",
    "\n",
    "            # prints the year, the end count from above\n",
    "            print(key, \":\", tree_summary[\"tree_type\"][key], end=\" \")\n",
    "            print(\"\\n\") \n",
    "    else:\n",
    "        print(\"\\n NBD. It's a long list!\")"
   ]
  },
  {
   "cell_type": "markdown",
   "metadata": {},
   "source": [
    "## Next we'll look at where those trees are within the city."
   ]
  },
  {
   "cell_type": "code",
   "execution_count": null,
   "metadata": {},
   "outputs": [],
   "source": [
    "location_summary = {\"city_neighborhood\": {},}\n",
    "\n",
    "with open(\"city-pgh-trees.csv\") as tree_file: \n",
    "    dreader = csv.DictReader(tree_file)\n",
    "    \n",
    "    unique_location_counter = 0 \n",
    "    \n",
    "    for record in dreader:\n",
    "        if record[\"neighborhood\"] not in location_summary[\"city_neighborhood\"]:\n",
    "            unique_location_counter += 1\n",
    "            location_summary[\"city_neighborhood\"][record[\"neighborhood\"]] = 1\n",
    "        else:\n",
    "            location_summary[\"city_neighborhood\"][record[\"neighborhood\"]] += 1\n",
    "    \n",
    "\n",
    "    \n",
    "    print(\"Top 5 neighborhoods with the most trees: \\n\")\n",
    "    count = 0 \n",
    "    for item in sorted(tree_summary[\"city_neighborhood\"].items(), key = lambda item: item[1], reverse = True):\n",
    "        print(item[0] + \":\", item[1])\n",
    "        count += 1\n",
    "        if count >= 5:\n",
    "            break\n",
    "    \n",
    "     \n",
    "    user_input = input(\"\\n\\nDo you want to see a list of all the neighborhoods and their tree counts? Type Y or N: \")\n",
    "    print(\"\\n\")\n",
    "    \n",
    "    if user_input == \"Y\":\n",
    "            print(\"The\", tree_counter, \"trees are located across\", unique_location_counter, \"neighborhoods\\n\")\n",
    "        for key in sorted(location_summary[\"city_neighborhood\"]):\n",
    "\n",
    "            # prints the year, the end count from above\n",
    "            print(key, \":\", location_summary[\"city_neighborhood\"][key], end=\" \")\n",
    "            print(\"\\n\") "
   ]
  },
  {
   "cell_type": "markdown",
   "metadata": {},
   "source": [
    "## Finally, what are the different types of growth areas where the trees are planted?\n",
    "\n",
    "_ex: Medians, natural areas/parks, city lawns, etc_ "
   ]
  },
  {
   "cell_type": "code",
   "execution_count": 24,
   "metadata": {},
   "outputs": [
    {
     "name": "stdout",
     "output_type": "stream",
     "text": [
      " : 193 \n",
      "\n",
      "Island : 82 \n",
      "\n",
      "Median : 783 \n",
      "\n",
      "Natural Area : 280 \n",
      "\n",
      "Open : 21 \n",
      "\n",
      "Open or Restricted : 1456 \n",
      "\n",
      "Open or Unrestricted : 15897 \n",
      "\n",
      "Other - see notes : 1 \n",
      "\n",
      "Raised Planter : 54 \n",
      "\n",
      "Tree Lawn : 60 \n",
      "\n",
      "Tree Lawn or Parkway : 12613 \n",
      "\n",
      "Well or Pit : 14099 \n",
      "\n",
      "Well/Pit : 170 \n",
      "\n"
     ]
    }
   ],
   "source": [
    "growth_summary = {\"growth_area\": {},}\n",
    "\n",
    "with open(\"city-pgh-trees.csv\") as tree_file:\n",
    "    dreader = csv.DictReader(tree_file)\n",
    "    \n",
    "    for record in dreader:\n",
    "        if record[\"growth_space_type\"] not in growth_summary[\"growth_area\"]:\n",
    "            growth_summary[\"growth_area\"][record[\"growth_space_type\"]] = 1\n",
    "        else:\n",
    "            growth_summary[\"growth_area\"][record[\"growth_space_type\"]] += 1\n",
    "    \n",
    "    for key in sorted(growth_summary[\"growth_area\"]):\n",
    "        print(key, \":\", growth_summary[\"growth_area\"][key], end=\" \")\n",
    "        print(\"\\n\")"
   ]
  },
  {
   "cell_type": "code",
   "execution_count": null,
   "metadata": {},
   "outputs": [],
   "source": []
  }
 ],
 "metadata": {
  "kernelspec": {
   "display_name": "Python 3",
   "language": "python",
   "name": "python3"
  },
  "language_info": {
   "codemirror_mode": {
    "name": "ipython",
    "version": 3
   },
   "file_extension": ".py",
   "mimetype": "text/x-python",
   "name": "python",
   "nbconvert_exporter": "python",
   "pygments_lexer": "ipython3",
   "version": "3.8.3"
  }
 },
 "nbformat": 4,
 "nbformat_minor": 4
}
