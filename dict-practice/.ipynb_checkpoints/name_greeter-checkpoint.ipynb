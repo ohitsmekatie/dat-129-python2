{
 "cells": [
  {
   "cell_type": "code",
   "execution_count": 14,
   "metadata": {},
   "outputs": [
    {
     "ename": "IndentationError",
     "evalue": "unexpected indent (<ipython-input-14-567ef13e26a3>, line 17)",
     "output_type": "error",
     "traceback": [
      "\u001b[0;36m  File \u001b[0;32m\"<ipython-input-14-567ef13e26a3>\"\u001b[0;36m, line \u001b[0;32m17\u001b[0m\n\u001b[0;31m    formatted_list.append(user_input)\u001b[0m\n\u001b[0m    ^\u001b[0m\n\u001b[0;31mIndentationError\u001b[0m\u001b[0;31m:\u001b[0m unexpected indent\n"
     ]
    }
   ],
   "source": [
    "with open(\"names.txt\", \"r\") as names:\n",
    "    name_list = names.readlines()\n",
    "    \n",
    "print(name_list)\n",
    "\n",
    "formatted_list = []\n",
    "for name in name_list:\n",
    "    formatted_list.append(name.strip())\n",
    "    \n",
    "print(formatted_list)\n",
    "\n",
    "user_input = input(\"Please enter your name: \")\n",
    "if user_input in formatted_list:\n",
    "    print(\"Hello! Good to see you again,\", user_input)\n",
    "else:\n",
    "    user_input_2 = input(\"Would you like to add your name to the list? Type Y or N\")\n",
    "    if user_input_2 == \"Y\":\n",
    "        formatted_list.append(user_input)\n",
    "        print(\"Thanks! Your name has been added to the list.\")\n",
    "    else:\n",
    "        print(\"Okay, bye! \")"
   ]
  },
  {
   "cell_type": "code",
   "execution_count": null,
   "metadata": {},
   "outputs": [],
   "source": []
  }
 ],
 "metadata": {
  "kernelspec": {
   "display_name": "Python 3",
   "language": "python",
   "name": "python3"
  },
  "language_info": {
   "codemirror_mode": {
    "name": "ipython",
    "version": 3
   },
   "file_extension": ".py",
   "mimetype": "text/x-python",
   "name": "python",
   "nbconvert_exporter": "python",
   "pygments_lexer": "ipython3",
   "version": "3.8.3"
  }
 },
 "nbformat": 4,
 "nbformat_minor": 4
}
