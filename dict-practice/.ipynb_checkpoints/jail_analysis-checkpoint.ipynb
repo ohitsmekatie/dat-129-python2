{
 "cells": [
  {
   "cell_type": "markdown",
   "metadata": {},
   "source": [
    "# Analysis of 2018 jail census data"
   ]
  },
  {
   "cell_type": "code",
   "execution_count": 1,
   "metadata": {},
   "outputs": [
    {
     "name": "stdout",
     "output_type": "stream",
     "text": [
      "There were 63138 incarcerated men in 2018 which is 86.84 of the total incarcerated population\n",
      "There were 9567 incarcerated women in 2018 which is 13.16 of the total incarcerated population\n"
     ]
    }
   ],
   "source": [
    "# jail census data from https://technologyrediscovery.net/python/obact.py.dict.html\n",
    "\n",
    "import csv \n",
    "\n",
    "gender_list = [] \n",
    "race_list = []\n",
    "age_booked_list = [] \n",
    "age_current_list = []\n",
    "age_difference_list = []\n",
    "\n",
    "with open(\"jail.csv\", \"r\", newline=\"\") as jail_data:\n",
    "    dreader = csv.DictReader(jail_data)\n",
    "    \n",
    "    # create lists from the data \n",
    "    for row in dreader:\n",
    "        gender_list.append(row.get(\"gender\"))\n",
    "        race_list.append(row.get(\"race\"))\n",
    "        age_booked_list.append(int(row.get(\"agebook\")))\n",
    "        age_current_list.append(int(row.get(\"agecurr\")))\n",
    "    \n",
    "    count_of_m = 0\n",
    "    count_of_f = 0 \n",
    "    for item in gender_list:\n",
    "        if item == 'M':\n",
    "            count_of_m += 1\n",
    "        if item == \"F\":\n",
    "            count_of_f += 1\n",
    "    \n",
    "    \n",
    "    percent_m = round((count_of_m / (count_of_m + count_of_f)) * 100,2)\n",
    "    percent_f = round((count_of_f / (count_of_m + count_of_f)) * 100,2)\n",
    "\n",
    "    print(\"There were\", count_of_m, \"incarcerated men in 2018 which is\", percent_m, \"of the total incarcerated population\")\n",
    "    print(\"There were\", count_of_f, \"incarcerated women in 2018 which is\", percent_f, \"of the total incarcerated population\")\n",
    "    \n",
    "    \n",
    "# this doesn't work and isn't doing what i expected it to     \n",
    "#     for item in age_current_list:\n",
    "#         age_diff = age_current_list[item] - age_booked_list[item]\n",
    "#         age_difference_list.append(age_diff)\n",
    "#     print(age_difference_list)"
   ]
  },
  {
   "cell_type": "code",
   "execution_count": null,
   "metadata": {},
   "outputs": [],
   "source": []
  }
 ],
 "metadata": {
  "kernelspec": {
   "display_name": "Python 3",
   "language": "python",
   "name": "python3"
  },
  "language_info": {
   "codemirror_mode": {
    "name": "ipython",
    "version": 3
   },
   "file_extension": ".py",
   "mimetype": "text/x-python",
   "name": "python",
   "nbconvert_exporter": "python",
   "pygments_lexer": "ipython3",
   "version": "3.8.3"
  }
 },
 "nbformat": 4,
 "nbformat_minor": 4
}
