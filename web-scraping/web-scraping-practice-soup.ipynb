{
 "cells": [
  {
   "cell_type": "code",
   "execution_count": 19,
   "metadata": {},
   "outputs": [],
   "source": [
    "# class practice using goodreads \n",
    "\n",
    "import urllib \n",
    "from bs4 import BeautifulSoup  \n",
    "\n",
    "def get_search_url(search_term):\n",
    "    url = 'https://www.goodreads.com/search?query=%s' % (str(search_term))\n",
    "    return url \n",
    "\n",
    "def get_page_content(url):\n",
    "    req = urllib.request.Request(url)\n",
    "    with urllib.request.urlopen(req) as response:\n",
    "        return response.read()"
   ]
  },
  {
   "cell_type": "code",
   "execution_count": 20,
   "metadata": {},
   "outputs": [
    {
     "name": "stdout",
     "output_type": "stream",
     "text": [
      "What book content would you like to look up: python\n",
      "Diaries 1969-1979: The Python Years  (Palin Diaries, #1)\n",
      "Automate the Boring Stuff with Python: Practical Programming for Total Beginners\n",
      "Computer Science With Python (textbook XII)\n",
      "Learning Python\n",
      "Python for Data Analysis\n",
      "The Complete Monty Python's Flying Circus: All the Words: Volume 1\n",
      "Fluent Python: Clear, Concise, and Effective Programming\n",
      "Python Crash Course: A Hands-On, Project-Based Introduction to Programming\n",
      "The Greedy Python\n",
      "The Pythons Autobiography by The Pythons\n",
      "Computer Science with Python - CBSE XI: Textbook for CBSE Class 11\n",
      "Learn Python in One Day and Learn It Well: Python for Beginners with Hands-on Project\n",
      "Data Science from Scratch: First Principles with Python\n",
      "Python for Everybody: Exploring Data in Python 3\n",
      "Think Python\n",
      "Deep Learning with Python\n",
      "Python Machine Learning\n",
      "Learn Python The Hard Way\n",
      "Black Hat Python: Python Programming for Hackers and Pentesters\n",
      "Python: 3 Manuscripts in 1 book: - Python Programming For Beginners - Python Programming For Intermediates - Python Programming for Advanced\n",
      "\n",
      "********SUMMARY**********\n",
      "\n",
      "Total Titles on the first page:  20\n",
      "55.00000000000001 % of titles have subtitles\n"
     ]
    }
   ],
   "source": [
    "user_input = input(\"What book content would you like to look up: \")\n",
    "print()\n",
    "\n",
    "page_content = get_page_content(get_search_url(user_input.lower()))\n",
    "\n",
    "soup = BeautifulSoup(page_content, 'html.parser')\n",
    "# print(soup)\n",
    "# bookTitle is the class\n",
    "\n",
    "s = soup.find_all('a','bookTitle')\n",
    "# print(s)\n",
    "\n",
    "total_titles = 0\n",
    "subtitles = 0\n",
    "\n",
    "for item in s:\n",
    "    # finds everything in the span element to just get the titles \n",
    "    t = item.find('span').string\n",
    "    print(t)\n",
    "    total_titles = total_titles + 1\n",
    "    # if there is a title with : in it it has a subtitle\n",
    "    if \":\" in t:\n",
    "        subtitles = subtitles + 1\n",
    "        \n",
    "print()\n",
    "print(\"********SUMMARY**********\")\n",
    "print()\n",
    "print(\"Total Titles on the first page: \", str(total_titles))\n",
    "print(str((subtitles/total_titles)*100),\"% of titles have subtitles\")"
   ]
  },
  {
   "cell_type": "code",
   "execution_count": null,
   "metadata": {},
   "outputs": [],
   "source": []
  }
 ],
 "metadata": {
  "kernelspec": {
   "display_name": "Python 3",
   "language": "python",
   "name": "python3"
  },
  "language_info": {
   "codemirror_mode": {
    "name": "ipython",
    "version": 3
   },
   "file_extension": ".py",
   "mimetype": "text/x-python",
   "name": "python",
   "nbconvert_exporter": "python",
   "pygments_lexer": "ipython3",
   "version": "3.8.3"
  }
 },
 "nbformat": 4,
 "nbformat_minor": 4
}
