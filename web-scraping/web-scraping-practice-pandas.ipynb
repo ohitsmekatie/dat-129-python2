{
 "cells": [
  {
   "cell_type": "code",
   "execution_count": 27,
   "metadata": {},
   "outputs": [
    {
     "data": {
      "text/plain": [
       "[               0                                                  1\n",
       " 0   Title Screen  Film Genre(s), Title, Year, (Country),  Length...\n",
       " 1            NaN  The American (2010, US/UK), 105 minutes, D: An...\n",
       " 2            NaN  Black Swan (2010), 103 minutes,  D: Darren Aro...\n",
       " 3            NaN  Blue Valentine (2010), 112 minutes, D: Derek  ...\n",
       " 4            NaN  Despicable Me (2010), 95 minutes,  D: Pierre C...\n",
       " 5            NaN  The Fighter (2010), 115 minutes,  D: David O. ...\n",
       " 6            NaN  The Ghost Writer (2010, UK/Germ./Fr.), 128  mi...\n",
       " 7            NaN  Harry  Potter and the Deathly Hallows, Part 1 ...\n",
       " 8            NaN  How to Train Your Dragon (2010),  98 minutes, ...\n",
       " 9            NaN  Inception (2010), 148 minutes, D:  Christopher...\n",
       " 10           NaN  Iron Man 2 (2010), 124 minutes,  D. Jon Favrea...\n",
       " 11           NaN  The Kids Are All Right (2010), 106  minutes, D...\n",
       " 12           NaN  The King's Speech (2010, UK/Australia), 118  m...\n",
       " 13           NaN  127 Hours (2010), 93 minutes, D:  Danny Boyle ...\n",
       " 14           NaN  Shrek Forever  After (2010), 93 minutes, D: Mi...\n",
       " 15           NaN  The Social Network (2010), 120 minutes,  D. Da...\n",
       " 16           NaN  The Town (2010), 124 minutes, D:  Ben Affleck ...\n",
       " 17           NaN  Toy Story 3 (2010), 103 minutes,  D: Lee Unkri...\n",
       " 18           NaN  True  Grit (2010), 110 minutes, D: Joel and Et...\n",
       " 19           NaN  Winter's Bone (2010), 100 minutes, D: Debra  G...]"
      ]
     },
     "execution_count": 27,
     "metadata": {},
     "output_type": "execute_result"
    }
   ],
   "source": [
    "import bs4, urllib.request, pandas as pd \n",
    "\n",
    "df_1970 = pd.read_html('https://www.filmsite.org/1970.html')\n",
    "df_1980 = pd.read_html('https://www.filmsite.org/1980.html')\n",
    "df_1990 = pd.read_html('https://www.filmsite.org/1990.html')\n",
    "df_2000 = pd.read_html('https://www.filmsite.org/2000.html')\n",
    "df_2010 = pd.read_html('https://www.filmsite.org/2010.html')\n",
    "\n",
    "df_1970 = df_1970[1::]\n",
    "df_1980 = df_1980[1::]\n",
    "df_1990 = df_1990[1::]\n",
    "df_2000 = df_2000[1::]\n",
    "df_2010 = df_2010[1::]\n",
    "\n",
    "\n"
   ]
  },
  {
   "cell_type": "code",
   "execution_count": null,
   "metadata": {},
   "outputs": [],
   "source": []
  },
  {
   "cell_type": "code",
   "execution_count": null,
   "metadata": {},
   "outputs": [],
   "source": []
  }
 ],
 "metadata": {
  "kernelspec": {
   "display_name": "Python 3",
   "language": "python",
   "name": "python3"
  },
  "language_info": {
   "codemirror_mode": {
    "name": "ipython",
    "version": 3
   },
   "file_extension": ".py",
   "mimetype": "text/x-python",
   "name": "python",
   "nbconvert_exporter": "python",
   "pygments_lexer": "ipython3",
   "version": "3.8.3"
  }
 },
 "nbformat": 4,
 "nbformat_minor": 4
}
